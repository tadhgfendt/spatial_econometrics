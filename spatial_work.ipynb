{
 "cells": [
  {
   "cell_type": "code",
   "execution_count": 1,
   "metadata": {
    "collapsed": false,
    "deletable": true,
    "editable": true
   },
   "outputs": [],
   "source": [
    "import geopandas as gpd\n",
    "import numpy as np\n",
    "import pandas as pd\n",
    "import shapely as shp\n",
    "\n",
    "from glob import glob\n",
    "from os.path import join\n",
    "from pandana.loaders import osm"
   ]
  },
  {
   "cell_type": "markdown",
   "metadata": {
    "deletable": true,
    "editable": true
   },
   "source": [
    "### Construct a node-edge network of all the intersections within our bounding box. This allows us to compute distance calulations and aggregates with point data on this network"
   ]
  },
  {
   "cell_type": "code",
   "execution_count": 2,
   "metadata": {
    "collapsed": false,
    "deletable": true,
    "editable": true
   },
   "outputs": [
    {
     "name": "stdout",
     "output_type": "stream",
     "text": [
      "Requesting network data within bounding box from Overpass API in 4 request(s)\n",
      "Posting to http://www.overpass-api.de/api/interpreter with timeout=180, \"{'data': '[out:json][timeout:180];(way[\"highway\"][\"highway\"!~\"cycleway|footway|path|pedestrian|steps|track|proposed|construction|bridleway|abandoned|platform|raceway|service\"][\"motor_vehicle\"!~\"no\"][\"motorcar\"!~\"no\"][\"service\"!~\"parking|parking_aisle|driveway|emergency_access\"](45.14530000,-123.10950000,45.46678913,-122.68170813);>;);out;'}\"\n",
      "Downloaded 15,947.2KB from www.overpass-api.de in 4.84 seconds\n",
      "Posting to http://www.overpass-api.de/api/interpreter with timeout=180, \"{'data': '[out:json][timeout:180];(way[\"highway\"][\"highway\"!~\"cycleway|footway|path|pedestrian|steps|track|proposed|construction|bridleway|abandoned|platform|raceway|service\"][\"motor_vehicle\"!~\"no\"][\"motorcar\"!~\"no\"][\"service\"!~\"parking|parking_aisle|driveway|emergency_access\"](45.46639816,-123.10950000,45.78669410,-122.67989024);>;);out;'}\"\n",
      "Downloaded 20,301.9KB from www.overpass-api.de in 5.55 seconds\n",
      "Posting to http://www.overpass-api.de/api/interpreter with timeout=180, \"{'data': '[out:json][timeout:180];(way[\"highway\"][\"highway\"!~\"cycleway|footway|path|pedestrian|steps|track|proposed|construction|bridleway|abandoned|platform|raceway|service\"][\"motor_vehicle\"!~\"no\"][\"motorcar\"!~\"no\"][\"service\"!~\"parking|parking_aisle|driveway|emergency_access\"](45.46442844,-122.68170813,45.78669410,-122.25750000);>;);out;'}\"\n",
      "Downloaded 30,460.9KB from www.overpass-api.de in 5.61 seconds\n",
      "Posting to http://www.overpass-api.de/api/interpreter with timeout=180, \"{'data': '[out:json][timeout:180];(way[\"highway\"][\"highway\"!~\"cycleway|footway|path|pedestrian|steps|track|proposed|construction|bridleway|abandoned|platform|raceway|service\"][\"motor_vehicle\"!~\"no\"][\"motorcar\"!~\"no\"][\"service\"!~\"parking|parking_aisle|driveway|emergency_access\"](45.14530000,-122.68349563,45.46639816,-122.25750000);>;);out;'}\"\n",
      "Downloaded 14,137.8KB from www.overpass-api.de in 9.09 seconds\n",
      "Downloaded OSM network data within bounding box from Overpass API in 4 request(s) and 27.03 seconds\n",
      "13650 duplicate records removed. Took 6.90 seconds\n",
      "Returning OSM data with 534,527 nodes and 80,210 ways...\n",
      "Edge node pairs completed. Took 86.16 seconds\n",
      "Returning processed graph with 84,484 nodes and 111,989 edges...\n",
      "Completed OSM data download and Pandana node and edge table creation in 123.94 seconds\n"
     ]
    }
   ],
   "source": [
    "net = osm.pdna_network_from_bbox(45.1453, -123.1095, 45.7859, -122.2575, network_type='drive')"
   ]
  },
  {
   "cell_type": "code",
   "execution_count": 3,
   "metadata": {
    "collapsed": true,
    "deletable": true,
    "editable": true
   },
   "outputs": [],
   "source": [
    "# precompute a distance of 3000 meters, we won't be doing calulations further than that\n",
    "net.precompute(3000)"
   ]
  },
  {
   "cell_type": "markdown",
   "metadata": {
    "deletable": true,
    "editable": true
   },
   "source": [
    "### Preprocess point of interest data and add to the network\n",
    "\n",
    "We can 'set' points of interest to the network (e.g. grocery stores) to later perform aggregations on. We do this by simply passing vectors of lats and longs, a label for the points and the max distance we care about in future calulations. Some of the data is in ESRI Shapefile format so they need to be loaded and have their coordinates extracted."
   ]
  },
  {
   "cell_type": "code",
   "execution_count": 4,
   "metadata": {
    "collapsed": true,
    "deletable": true,
    "editable": true
   },
   "outputs": [],
   "source": [
    "def process_pois(rootdir, network, max_map=250):\n",
    "    # iterate through point shapefiles\n",
    "    for data in glob(join('./data/pois', '*')):\n",
    "        print('Processing {}...'.format(data))\n",
    "        df = gpd.read_file(data)\n",
    "        # confirm the projection is WGS84\n",
    "        if df.crs != {'init': 'epsg:4326'}:\n",
    "            df = df.to_crs({'init': 'epsg:4326'})\n",
    "        xs = df.apply(lambda row: row['geometry'].x, axis=1)\n",
    "        ys = df.apply(lambda row: row['geometry'].y, axis=1)\n",
    "        \n",
    "        network.set(network.get_node_ids(xs, ys, max_map), variable=None, name=data.split('/')[3])\n",
    "    print('Done!')"
   ]
  },
  {
   "cell_type": "code",
   "execution_count": 5,
   "metadata": {
    "collapsed": false,
    "deletable": true,
    "editable": true
   },
   "outputs": [
    {
     "name": "stdout",
     "output_type": "stream",
     "text": [
      "Processing ./data/pois/grocery_store...\n",
      "Processing ./data/pois/lrt_stop...\n",
      "Processing ./data/pois/tran_cen...\n",
      "Done!\n"
     ]
    }
   ],
   "source": [
    "process_pois('./data/pois', net)"
   ]
  },
  {
   "cell_type": "markdown",
   "metadata": {
    "deletable": true,
    "editable": true
   },
   "source": [
    "#### The OSM data already has lat longs but needs to be separated into groups (i.e. unconcatenated)"
   ]
  },
  {
   "cell_type": "code",
   "execution_count": 6,
   "metadata": {
    "collapsed": true,
    "deletable": true,
    "editable": true
   },
   "outputs": [],
   "source": [
    "# OSM already has lat longs so process these can essentially be added to the network directly\n",
    "osm = pd.read_csv('./data/osm.csv')"
   ]
  },
  {
   "cell_type": "code",
   "execution_count": 7,
   "metadata": {
    "collapsed": false,
    "deletable": true,
    "editable": true
   },
   "outputs": [
    {
     "data": {
      "text/html": [
       "<div>\n",
       "<style>\n",
       "    .dataframe thead tr:only-child th {\n",
       "        text-align: right;\n",
       "    }\n",
       "\n",
       "    .dataframe thead th {\n",
       "        text-align: left;\n",
       "    }\n",
       "\n",
       "    .dataframe tbody tr th {\n",
       "        vertical-align: top;\n",
       "    }\n",
       "</style>\n",
       "<table border=\"1\" class=\"dataframe\">\n",
       "  <thead>\n",
       "    <tr style=\"text-align: right;\">\n",
       "      <th></th>\n",
       "      <th>id</th>\n",
       "      <th>lat</th>\n",
       "      <th>lon</th>\n",
       "      <th>name</th>\n",
       "      <th>amenity</th>\n",
       "      <th>alias</th>\n",
       "    </tr>\n",
       "  </thead>\n",
       "  <tbody>\n",
       "    <tr>\n",
       "      <th>0</th>\n",
       "      <td>287206333</td>\n",
       "      <td>45.534615</td>\n",
       "      <td>-122.916619</td>\n",
       "      <td>Swagath</td>\n",
       "      <td>restaurant</td>\n",
       "      <td>food_drink</td>\n",
       "    </tr>\n",
       "    <tr>\n",
       "      <th>1</th>\n",
       "      <td>287207155</td>\n",
       "      <td>45.550412</td>\n",
       "      <td>-122.904555</td>\n",
       "      <td>Pho Tango</td>\n",
       "      <td>restaurant</td>\n",
       "      <td>food_drink</td>\n",
       "    </tr>\n",
       "  </tbody>\n",
       "</table>\n",
       "</div>"
      ],
      "text/plain": [
       "          id        lat         lon       name     amenity       alias\n",
       "0  287206333  45.534615 -122.916619    Swagath  restaurant  food_drink\n",
       "1  287207155  45.550412 -122.904555  Pho Tango  restaurant  food_drink"
      ]
     },
     "execution_count": 7,
     "metadata": {},
     "output_type": "execute_result"
    }
   ],
   "source": [
    "osm.head(2)"
   ]
  },
  {
   "cell_type": "code",
   "execution_count": 8,
   "metadata": {
    "collapsed": false,
    "deletable": true,
    "editable": true
   },
   "outputs": [
    {
     "data": {
      "text/plain": [
       "array(['food_drink', 'cafe', 'college', 'entertainment'], dtype=object)"
      ]
     },
     "execution_count": 8,
     "metadata": {},
     "output_type": "execute_result"
    }
   ],
   "source": [
    "osm.alias.unique()"
   ]
  },
  {
   "cell_type": "markdown",
   "metadata": {
    "deletable": true,
    "editable": true
   },
   "source": [
    "#### Separate out different types of amenities"
   ]
  },
  {
   "cell_type": "code",
   "execution_count": 9,
   "metadata": {
    "collapsed": true,
    "deletable": true,
    "editable": true
   },
   "outputs": [],
   "source": [
    "fd = osm[osm['alias'] == 'food_drink'][['id', 'lon', 'lat']]\n",
    "fd.index.name = 'fd'"
   ]
  },
  {
   "cell_type": "code",
   "execution_count": 10,
   "metadata": {
    "collapsed": true,
    "deletable": true,
    "editable": true
   },
   "outputs": [],
   "source": [
    "cafe = osm[osm['alias'] == 'cafe'][['id', 'lon', 'lat']]\n",
    "cafe.index.name = 'cafe'"
   ]
  },
  {
   "cell_type": "code",
   "execution_count": 11,
   "metadata": {
    "collapsed": true,
    "deletable": true,
    "editable": true
   },
   "outputs": [],
   "source": [
    "college = osm[osm['alias'] == 'college'][['id', 'lon', 'lat']]\n",
    "college.index.name = 'college'"
   ]
  },
  {
   "cell_type": "code",
   "execution_count": 12,
   "metadata": {
    "collapsed": true,
    "deletable": true,
    "editable": true
   },
   "outputs": [],
   "source": [
    "ent = osm[osm['alias'] == 'entertainment'][['id', 'lon', 'lat']]\n",
    "ent.index.name = 'ent'"
   ]
  },
  {
   "cell_type": "code",
   "execution_count": 13,
   "metadata": {
    "collapsed": false,
    "deletable": true,
    "editable": true
   },
   "outputs": [],
   "source": [
    "# set points to the net\n",
    "for df in [fd, cafe, college, ent]:\n",
    "    net.set(net.get_node_ids(df['lon'], df['lat'], 250), variable=None, name=df.index.name)"
   ]
  },
  {
   "cell_type": "markdown",
   "metadata": {
    "deletable": true,
    "editable": true
   },
   "source": [
    "### Load the data we actually care about (observations aka properties) and assign each to a node"
   ]
  },
  {
   "cell_type": "code",
   "execution_count": 14,
   "metadata": {
    "collapsed": false,
    "deletable": true,
    "editable": true
   },
   "outputs": [],
   "source": [
    "props = gpd.read_file('./data/properties')"
   ]
  },
  {
   "cell_type": "code",
   "execution_count": 15,
   "metadata": {
    "collapsed": false,
    "deletable": true,
    "editable": true
   },
   "outputs": [
    {
     "data": {
      "text/plain": [
       "{'init': 'epsg:4326'}"
      ]
     },
     "execution_count": 15,
     "metadata": {},
     "output_type": "execute_result"
    }
   ],
   "source": [
    "props.crs"
   ]
  },
  {
   "cell_type": "code",
   "execution_count": 16,
   "metadata": {
    "collapsed": false,
    "deletable": true,
    "editable": true
   },
   "outputs": [],
   "source": [
    "xs = props.apply(lambda row: row['geometry'].x, axis=1)"
   ]
  },
  {
   "cell_type": "code",
   "execution_count": 17,
   "metadata": {
    "collapsed": true,
    "deletable": true,
    "editable": true
   },
   "outputs": [],
   "source": [
    "ys = props.apply(lambda row: row['geometry'].y, axis=1)"
   ]
  },
  {
   "cell_type": "code",
   "execution_count": 18,
   "metadata": {
    "collapsed": true,
    "deletable": true,
    "editable": true
   },
   "outputs": [],
   "source": [
    "props['node_id'] = net.get_node_ids(xs, ys)"
   ]
  },
  {
   "cell_type": "code",
   "execution_count": 19,
   "metadata": {
    "collapsed": false,
    "deletable": true,
    "editable": true
   },
   "outputs": [
    {
     "data": {
      "text/html": [
       "<div>\n",
       "<style>\n",
       "    .dataframe thead tr:only-child th {\n",
       "        text-align: right;\n",
       "    }\n",
       "\n",
       "    .dataframe thead th {\n",
       "        text-align: left;\n",
       "    }\n",
       "\n",
       "    .dataframe tbody tr th {\n",
       "        vertical-align: top;\n",
       "    }\n",
       "</style>\n",
       "<table border=\"1\" class=\"dataframe\">\n",
       "  <thead>\n",
       "    <tr style=\"text-align: right;\">\n",
       "      <th></th>\n",
       "      <th>geometry</th>\n",
       "      <th>propertyid</th>\n",
       "      <th>node_id</th>\n",
       "    </tr>\n",
       "  </thead>\n",
       "  <tbody>\n",
       "    <tr>\n",
       "      <th>0</th>\n",
       "      <td>POINT (-122.535763 45.781812)</td>\n",
       "      <td>8021379</td>\n",
       "      <td>47251805</td>\n",
       "    </tr>\n",
       "    <tr>\n",
       "      <th>1</th>\n",
       "      <td>POINT (-122.5075064 45.6203498)</td>\n",
       "      <td>9096130</td>\n",
       "      <td>47307668</td>\n",
       "    </tr>\n",
       "    <tr>\n",
       "      <th>2</th>\n",
       "      <td>POINT (-122.513618 45.622437)</td>\n",
       "      <td>7769079</td>\n",
       "      <td>47330355</td>\n",
       "    </tr>\n",
       "    <tr>\n",
       "      <th>3</th>\n",
       "      <td>POINT (-122.669628 45.7208891)</td>\n",
       "      <td>6058580</td>\n",
       "      <td>3686142098</td>\n",
       "    </tr>\n",
       "    <tr>\n",
       "      <th>4</th>\n",
       "      <td>POINT (-122.3796812 45.589126)</td>\n",
       "      <td>5998841</td>\n",
       "      <td>47211778</td>\n",
       "    </tr>\n",
       "  </tbody>\n",
       "</table>\n",
       "</div>"
      ],
      "text/plain": [
       "                          geometry  propertyid     node_id\n",
       "0    POINT (-122.535763 45.781812)     8021379    47251805\n",
       "1  POINT (-122.5075064 45.6203498)     9096130    47307668\n",
       "2    POINT (-122.513618 45.622437)     7769079    47330355\n",
       "3   POINT (-122.669628 45.7208891)     6058580  3686142098\n",
       "4   POINT (-122.3796812 45.589126)     5998841    47211778"
      ]
     },
     "execution_count": 19,
     "metadata": {},
     "output_type": "execute_result"
    }
   ],
   "source": [
    "props.head()"
   ]
  },
  {
   "cell_type": "markdown",
   "metadata": {
    "deletable": true,
    "editable": true
   },
   "source": [
    "### Perform aggregates\n",
    "We now have the following ammeneties set on the net:\n",
    "* grocery_store\n",
    "* lrt_stop\n",
    "* tran_cen\n",
    "* fd\n",
    "* cafe\n",
    "* college\n",
    "* ent\n",
    "\n",
    "This is nice because we can quickly and easily change the type of aggregate and the radius of the search"
   ]
  },
  {
   "cell_type": "code",
   "execution_count": 20,
   "metadata": {
    "collapsed": false,
    "deletable": true,
    "editable": true
   },
   "outputs": [],
   "source": [
    "grocery = net.aggregate(2000, type='count', decay='flat', name='grocery_store')\n",
    "grocery.name = 'grocery_2k'\n",
    "light_rail = net.aggregate(2000, type='count', decay='flat', name='lrt_stop')\n",
    "light_rail.name = 'lightrail_2k'\n",
    "transit_centers = net.aggregate(2000, type='count', decay='flat', name='tran_cen')\n",
    "transit_centers.name = 'transit_cen_2k'\n",
    "food_drink = net.aggregate(2000, type='count', decay='flat', name='fd')\n",
    "food_drink.name = 'food_drink_2k'\n",
    "caf = net.aggregate(2000, type='count', decay='flat', name='cafe')\n",
    "caf.name = 'cafe_2k'\n",
    "coll = net.aggregate(2000, type='count', decay='flat', name='college')\n",
    "coll.name = 'college_2k'\n",
    "entertain = net.aggregate(2000, type='count', decay='flat', name='ent')\n",
    "entertain.name = 'entertainment_2k'"
   ]
  },
  {
   "cell_type": "markdown",
   "metadata": {
    "deletable": true,
    "editable": true
   },
   "source": [
    "### Join the aggregates to our observations"
   ]
  },
  {
   "cell_type": "code",
   "execution_count": 21,
   "metadata": {
    "collapsed": false,
    "deletable": true,
    "editable": true
   },
   "outputs": [
    {
     "data": {
      "text/plain": [
       "(409, 3)"
      ]
     },
     "execution_count": 21,
     "metadata": {},
     "output_type": "execute_result"
    }
   ],
   "source": [
    "props.shape"
   ]
  },
  {
   "cell_type": "code",
   "execution_count": 22,
   "metadata": {
    "collapsed": false,
    "deletable": true,
    "editable": true
   },
   "outputs": [],
   "source": [
    "sub = props\n",
    "for agg in [grocery, light_rail, transit_centers, food_drink, caf, coll, entertain]:\n",
    "    sub = sub.join(agg, on='node_id', how='inner')"
   ]
  },
  {
   "cell_type": "code",
   "execution_count": 23,
   "metadata": {
    "collapsed": false,
    "deletable": true,
    "editable": true
   },
   "outputs": [
    {
     "data": {
      "text/html": [
       "<div>\n",
       "<style>\n",
       "    .dataframe thead tr:only-child th {\n",
       "        text-align: right;\n",
       "    }\n",
       "\n",
       "    .dataframe thead th {\n",
       "        text-align: left;\n",
       "    }\n",
       "\n",
       "    .dataframe tbody tr th {\n",
       "        vertical-align: top;\n",
       "    }\n",
       "</style>\n",
       "<table border=\"1\" class=\"dataframe\">\n",
       "  <thead>\n",
       "    <tr style=\"text-align: right;\">\n",
       "      <th></th>\n",
       "      <th>geometry</th>\n",
       "      <th>propertyid</th>\n",
       "      <th>node_id</th>\n",
       "      <th>grocery_2k</th>\n",
       "      <th>lightrail_2k</th>\n",
       "      <th>transit_cen_2k</th>\n",
       "      <th>food_drink_2k</th>\n",
       "      <th>cafe_2k</th>\n",
       "      <th>college_2k</th>\n",
       "      <th>entertainment_2k</th>\n",
       "    </tr>\n",
       "  </thead>\n",
       "  <tbody>\n",
       "    <tr>\n",
       "      <th>0</th>\n",
       "      <td>POINT (-122.535763 45.781812)</td>\n",
       "      <td>8021379</td>\n",
       "      <td>47251805</td>\n",
       "      <td>0.0</td>\n",
       "      <td>0.0</td>\n",
       "      <td>0.0</td>\n",
       "      <td>8.0</td>\n",
       "      <td>6.0</td>\n",
       "      <td>0.0</td>\n",
       "      <td>0.0</td>\n",
       "    </tr>\n",
       "    <tr>\n",
       "      <th>1</th>\n",
       "      <td>POINT (-122.5075064 45.6203498)</td>\n",
       "      <td>9096130</td>\n",
       "      <td>47307668</td>\n",
       "      <td>0.0</td>\n",
       "      <td>0.0</td>\n",
       "      <td>0.0</td>\n",
       "      <td>5.0</td>\n",
       "      <td>4.0</td>\n",
       "      <td>0.0</td>\n",
       "      <td>0.0</td>\n",
       "    </tr>\n",
       "    <tr>\n",
       "      <th>2</th>\n",
       "      <td>POINT (-122.513618 45.622437)</td>\n",
       "      <td>7769079</td>\n",
       "      <td>47330355</td>\n",
       "      <td>0.0</td>\n",
       "      <td>0.0</td>\n",
       "      <td>0.0</td>\n",
       "      <td>3.0</td>\n",
       "      <td>5.0</td>\n",
       "      <td>0.0</td>\n",
       "      <td>0.0</td>\n",
       "    </tr>\n",
       "    <tr>\n",
       "      <th>3</th>\n",
       "      <td>POINT (-122.669628 45.7208891)</td>\n",
       "      <td>6058580</td>\n",
       "      <td>3686142098</td>\n",
       "      <td>0.0</td>\n",
       "      <td>0.0</td>\n",
       "      <td>0.0</td>\n",
       "      <td>5.0</td>\n",
       "      <td>5.0</td>\n",
       "      <td>0.0</td>\n",
       "      <td>0.0</td>\n",
       "    </tr>\n",
       "    <tr>\n",
       "      <th>4</th>\n",
       "      <td>POINT (-122.3796812 45.589126)</td>\n",
       "      <td>5998841</td>\n",
       "      <td>47211778</td>\n",
       "      <td>0.0</td>\n",
       "      <td>0.0</td>\n",
       "      <td>0.0</td>\n",
       "      <td>16.0</td>\n",
       "      <td>4.0</td>\n",
       "      <td>0.0</td>\n",
       "      <td>1.0</td>\n",
       "    </tr>\n",
       "  </tbody>\n",
       "</table>\n",
       "</div>"
      ],
      "text/plain": [
       "                          geometry  propertyid     node_id  grocery_2k  \\\n",
       "0    POINT (-122.535763 45.781812)     8021379    47251805         0.0   \n",
       "1  POINT (-122.5075064 45.6203498)     9096130    47307668         0.0   \n",
       "2    POINT (-122.513618 45.622437)     7769079    47330355         0.0   \n",
       "3   POINT (-122.669628 45.7208891)     6058580  3686142098         0.0   \n",
       "4   POINT (-122.3796812 45.589126)     5998841    47211778         0.0   \n",
       "\n",
       "   lightrail_2k  transit_cen_2k  food_drink_2k  cafe_2k  college_2k  \\\n",
       "0           0.0             0.0            8.0      6.0         0.0   \n",
       "1           0.0             0.0            5.0      4.0         0.0   \n",
       "2           0.0             0.0            3.0      5.0         0.0   \n",
       "3           0.0             0.0            5.0      5.0         0.0   \n",
       "4           0.0             0.0           16.0      4.0         0.0   \n",
       "\n",
       "   entertainment_2k  \n",
       "0               0.0  \n",
       "1               0.0  \n",
       "2               0.0  \n",
       "3               0.0  \n",
       "4               1.0  "
      ]
     },
     "execution_count": 23,
     "metadata": {},
     "output_type": "execute_result"
    }
   ],
   "source": [
    "sub.head()"
   ]
  },
  {
   "cell_type": "code",
   "execution_count": 24,
   "metadata": {
    "collapsed": false,
    "deletable": true,
    "editable": true
   },
   "outputs": [
    {
     "data": {
      "text/plain": [
       "(409, 10)"
      ]
     },
     "execution_count": 24,
     "metadata": {},
     "output_type": "execute_result"
    }
   ],
   "source": [
    "# confirm join didn't exclude anyone\n",
    "sub.shape"
   ]
  },
  {
   "cell_type": "code",
   "execution_count": 25,
   "metadata": {
    "collapsed": true,
    "deletable": true,
    "editable": true
   },
   "outputs": [],
   "source": [
    "# we can drop the geometry\n",
    "sub.drop('geometry', axis=1, inplace=True)"
   ]
  },
  {
   "cell_type": "markdown",
   "metadata": {
    "deletable": true,
    "editable": true
   },
   "source": [
    "### Parks\n",
    "\n",
    "Parks require a different approach: being polygons they can't accurately be represented with one point, such as a centroid, for our purposes. How many park centroids an observation has within distance x is unecessarily restrictive. In practice what is more important is how many parks could be reached by traveling distance x? Put another way, how many park perimeters are within distance x? So here it seems traditional polygon to polygon intersection is the way to go. It is worth noting however that this will be a 'as the crow flies' measurement instead of a network traversal distance."
   ]
  },
  {
   "cell_type": "markdown",
   "metadata": {
    "deletable": true,
    "editable": true
   },
   "source": [
    "#### Read in the park layer"
   ]
  },
  {
   "cell_type": "code",
   "execution_count": 26,
   "metadata": {
    "collapsed": true,
    "deletable": true,
    "editable": true
   },
   "outputs": [],
   "source": [
    "parks = gpd.read_file('./data/orca_sites')"
   ]
  },
  {
   "cell_type": "code",
   "execution_count": 27,
   "metadata": {
    "collapsed": false,
    "deletable": true,
    "editable": true
   },
   "outputs": [
    {
     "data": {
      "text/html": [
       "<div>\n",
       "<style>\n",
       "    .dataframe thead tr:only-child th {\n",
       "        text-align: right;\n",
       "    }\n",
       "\n",
       "    .dataframe thead th {\n",
       "        text-align: left;\n",
       "    }\n",
       "\n",
       "    .dataframe tbody tr th {\n",
       "        vertical-align: top;\n",
       "    }\n",
       "</style>\n",
       "<table border=\"1\" class=\"dataframe\">\n",
       "  <thead>\n",
       "    <tr style=\"text-align: right;\">\n",
       "      <th></th>\n",
       "      <th>ACREAGE</th>\n",
       "      <th>DISSOLVEID</th>\n",
       "      <th>SITENAME</th>\n",
       "      <th>TYPE</th>\n",
       "      <th>geometry</th>\n",
       "    </tr>\n",
       "  </thead>\n",
       "  <tbody>\n",
       "    <tr>\n",
       "      <th>0</th>\n",
       "      <td>2.627946</td>\n",
       "      <td>1.0</td>\n",
       "      <td>114th Avenue Wetlands Natural Area</td>\n",
       "      <td>Park and/or Natural Area</td>\n",
       "      <td>(POLYGON ((7614399.042322829 674357.0767716467...</td>\n",
       "    </tr>\n",
       "    <tr>\n",
       "      <th>1</th>\n",
       "      <td>1.008078</td>\n",
       "      <td>2.0</td>\n",
       "      <td>Sieben Park</td>\n",
       "      <td>Park and/or Natural Area</td>\n",
       "      <td>POLYGON ((7684547.705380574 646138.3080708683,...</td>\n",
       "    </tr>\n",
       "  </tbody>\n",
       "</table>\n",
       "</div>"
      ],
      "text/plain": [
       "    ACREAGE  DISSOLVEID                            SITENAME  \\\n",
       "0  2.627946         1.0  114th Avenue Wetlands Natural Area   \n",
       "1  1.008078         2.0                         Sieben Park   \n",
       "\n",
       "                       TYPE                                           geometry  \n",
       "0  Park and/or Natural Area  (POLYGON ((7614399.042322829 674357.0767716467...  \n",
       "1  Park and/or Natural Area  POLYGON ((7684547.705380574 646138.3080708683,...  "
      ]
     },
     "execution_count": 27,
     "metadata": {},
     "output_type": "execute_result"
    }
   ],
   "source": [
    "parks.head(2)"
   ]
  },
  {
   "cell_type": "code",
   "execution_count": 28,
   "metadata": {
    "collapsed": true,
    "deletable": true,
    "editable": true
   },
   "outputs": [],
   "source": [
    "parks = parks.rename(columns=lambda x: x.lower())"
   ]
  },
  {
   "cell_type": "code",
   "execution_count": 29,
   "metadata": {
    "collapsed": false,
    "deletable": true,
    "editable": true
   },
   "outputs": [
    {
     "data": {
      "text/plain": [
       "array(['Park and/or Natural Area', 'Cemetery', 'Golf Course',\n",
       "       'Home Owner Association', 'School', 'Other'], dtype=object)"
      ]
     },
     "execution_count": 29,
     "metadata": {},
     "output_type": "execute_result"
    }
   ],
   "source": [
    "parks['type'].unique()"
   ]
  },
  {
   "cell_type": "markdown",
   "metadata": {
    "deletable": true,
    "editable": true
   },
   "source": [
    "#### Filter down to just parks"
   ]
  },
  {
   "cell_type": "code",
   "execution_count": 30,
   "metadata": {
    "collapsed": true,
    "deletable": true,
    "editable": true
   },
   "outputs": [],
   "source": [
    "parks = parks[parks['type'] == 'Park and/or Natural Area']"
   ]
  },
  {
   "cell_type": "markdown",
   "metadata": {
    "deletable": true,
    "editable": true
   },
   "source": [
    "#### Check projections"
   ]
  },
  {
   "cell_type": "code",
   "execution_count": 31,
   "metadata": {
    "collapsed": false,
    "deletable": true,
    "editable": true
   },
   "outputs": [
    {
     "data": {
      "text/plain": [
       "{'init': 'epsg:4326'}"
      ]
     },
     "execution_count": 31,
     "metadata": {},
     "output_type": "execute_result"
    }
   ],
   "source": [
    "props.crs"
   ]
  },
  {
   "cell_type": "code",
   "execution_count": 32,
   "metadata": {
    "collapsed": false,
    "deletable": true,
    "editable": true
   },
   "outputs": [
    {
     "data": {
      "text/plain": [
       "{'ellps': 'GRS80',\n",
       " 'lat_0': 43.66666666666666,\n",
       " 'lat_1': 44.33333333333334,\n",
       " 'lat_2': 46,\n",
       " 'lon_0': -120.5,\n",
       " 'no_defs': True,\n",
       " 'proj': 'lcc',\n",
       " 'towgs84': '0,0,0,0,0,0,0',\n",
       " 'units': 'ft',\n",
       " 'x_0': 2500000,\n",
       " 'y_0': 0}"
      ]
     },
     "execution_count": 32,
     "metadata": {},
     "output_type": "execute_result"
    }
   ],
   "source": [
    "parks.crs"
   ]
  },
  {
   "cell_type": "markdown",
   "metadata": {
    "deletable": true,
    "editable": true
   },
   "source": [
    "#### It generally seems best to use a local projection for these operations"
   ]
  },
  {
   "cell_type": "code",
   "execution_count": 33,
   "metadata": {
    "collapsed": true,
    "deletable": true,
    "editable": true
   },
   "outputs": [],
   "source": [
    "props = props.to_crs({'init': 'epsg:2913'})"
   ]
  },
  {
   "cell_type": "code",
   "execution_count": 34,
   "metadata": {
    "collapsed": true,
    "deletable": true,
    "editable": true
   },
   "outputs": [],
   "source": [
    "parks = parks.to_crs({'init': 'epsg:2913'})"
   ]
  },
  {
   "cell_type": "markdown",
   "metadata": {
    "deletable": true,
    "editable": true
   },
   "source": [
    "#### Create a 2k buffer for each observation"
   ]
  },
  {
   "cell_type": "code",
   "execution_count": 35,
   "metadata": {
    "collapsed": true,
    "deletable": true,
    "editable": true
   },
   "outputs": [],
   "source": [
    "# the units of this projection are feet: 6561.68 feet == 2k meters\n",
    "props['geometry'] = props.apply(lambda row: row['geometry'].buffer(6561.68), axis=1)"
   ]
  },
  {
   "cell_type": "code",
   "execution_count": 36,
   "metadata": {
    "collapsed": false,
    "deletable": true,
    "editable": true
   },
   "outputs": [
    {
     "data": {
      "text/html": [
       "<div>\n",
       "<style>\n",
       "    .dataframe thead tr:only-child th {\n",
       "        text-align: right;\n",
       "    }\n",
       "\n",
       "    .dataframe thead th {\n",
       "        text-align: left;\n",
       "    }\n",
       "\n",
       "    .dataframe tbody tr th {\n",
       "        vertical-align: top;\n",
       "    }\n",
       "</style>\n",
       "<table border=\"1\" class=\"dataframe\">\n",
       "  <thead>\n",
       "    <tr style=\"text-align: right;\">\n",
       "      <th></th>\n",
       "      <th>geometry</th>\n",
       "      <th>propertyid</th>\n",
       "      <th>node_id</th>\n",
       "    </tr>\n",
       "  </thead>\n",
       "  <tbody>\n",
       "    <tr>\n",
       "      <th>0</th>\n",
       "      <td>POLYGON ((7689333.215643824 777684.8060858538,...</td>\n",
       "      <td>8021379</td>\n",
       "      <td>47251805</td>\n",
       "    </tr>\n",
       "    <tr>\n",
       "      <th>1</th>\n",
       "      <td>POLYGON ((7695077.298893781 718648.9770450323,...</td>\n",
       "      <td>9096130</td>\n",
       "      <td>47307668</td>\n",
       "    </tr>\n",
       "  </tbody>\n",
       "</table>\n",
       "</div>"
      ],
      "text/plain": [
       "                                            geometry  propertyid   node_id\n",
       "0  POLYGON ((7689333.215643824 777684.8060858538,...     8021379  47251805\n",
       "1  POLYGON ((7695077.298893781 718648.9770450323,...     9096130  47307668"
      ]
     },
     "execution_count": 36,
     "metadata": {},
     "output_type": "execute_result"
    }
   ],
   "source": [
    "props.head(2)"
   ]
  },
  {
   "cell_type": "code",
   "execution_count": 37,
   "metadata": {
    "collapsed": false,
    "deletable": true,
    "editable": true
   },
   "outputs": [
    {
     "data": {
      "text/html": [
       "<div>\n",
       "<style>\n",
       "    .dataframe thead tr:only-child th {\n",
       "        text-align: right;\n",
       "    }\n",
       "\n",
       "    .dataframe thead th {\n",
       "        text-align: left;\n",
       "    }\n",
       "\n",
       "    .dataframe tbody tr th {\n",
       "        vertical-align: top;\n",
       "    }\n",
       "</style>\n",
       "<table border=\"1\" class=\"dataframe\">\n",
       "  <thead>\n",
       "    <tr style=\"text-align: right;\">\n",
       "      <th></th>\n",
       "      <th>acreage</th>\n",
       "      <th>dissolveid</th>\n",
       "      <th>sitename</th>\n",
       "      <th>type</th>\n",
       "      <th>geometry</th>\n",
       "    </tr>\n",
       "  </thead>\n",
       "  <tbody>\n",
       "    <tr>\n",
       "      <th>0</th>\n",
       "      <td>2.627946</td>\n",
       "      <td>1.0</td>\n",
       "      <td>114th Avenue Wetlands Natural Area</td>\n",
       "      <td>Park and/or Natural Area</td>\n",
       "      <td>(POLYGON ((7614399.042790023 674357.0767716141...</td>\n",
       "    </tr>\n",
       "    <tr>\n",
       "      <th>1</th>\n",
       "      <td>1.008078</td>\n",
       "      <td>2.0</td>\n",
       "      <td>Sieben Park</td>\n",
       "      <td>Park and/or Natural Area</td>\n",
       "      <td>POLYGON ((7684547.705847767 646138.3080708354,...</td>\n",
       "    </tr>\n",
       "  </tbody>\n",
       "</table>\n",
       "</div>"
      ],
      "text/plain": [
       "    acreage  dissolveid                            sitename  \\\n",
       "0  2.627946         1.0  114th Avenue Wetlands Natural Area   \n",
       "1  1.008078         2.0                         Sieben Park   \n",
       "\n",
       "                       type                                           geometry  \n",
       "0  Park and/or Natural Area  (POLYGON ((7614399.042790023 674357.0767716141...  \n",
       "1  Park and/or Natural Area  POLYGON ((7684547.705847767 646138.3080708354,...  "
      ]
     },
     "execution_count": 37,
     "metadata": {},
     "output_type": "execute_result"
    }
   ],
   "source": [
    "parks.head(2)"
   ]
  },
  {
   "cell_type": "markdown",
   "metadata": {
    "deletable": true,
    "editable": true
   },
   "source": [
    "### Do the spatial join"
   ]
  },
  {
   "cell_type": "code",
   "execution_count": 38,
   "metadata": {
    "collapsed": true,
    "deletable": true,
    "editable": true
   },
   "outputs": [],
   "source": [
    "parks_sjoin = gpd.sjoin(props, parks[['sitename', 'geometry']], how='inner', op='intersects').drop('index_right', axis=1)"
   ]
  },
  {
   "cell_type": "code",
   "execution_count": 39,
   "metadata": {
    "collapsed": false,
    "deletable": true,
    "editable": true,
    "scrolled": true
   },
   "outputs": [
    {
     "data": {
      "text/html": [
       "<div>\n",
       "<style>\n",
       "    .dataframe thead tr:only-child th {\n",
       "        text-align: right;\n",
       "    }\n",
       "\n",
       "    .dataframe thead th {\n",
       "        text-align: left;\n",
       "    }\n",
       "\n",
       "    .dataframe tbody tr th {\n",
       "        vertical-align: top;\n",
       "    }\n",
       "</style>\n",
       "<table border=\"1\" class=\"dataframe\">\n",
       "  <thead>\n",
       "    <tr style=\"text-align: right;\">\n",
       "      <th></th>\n",
       "      <th>geometry</th>\n",
       "      <th>propertyid</th>\n",
       "      <th>node_id</th>\n",
       "      <th>sitename</th>\n",
       "    </tr>\n",
       "  </thead>\n",
       "  <tbody>\n",
       "    <tr>\n",
       "      <th>6</th>\n",
       "      <td>POLYGON ((7649923.877360179 680057.9612040246,...</td>\n",
       "      <td>6520531</td>\n",
       "      <td>40629129</td>\n",
       "      <td>Vera Katz Eastbank Esplanade</td>\n",
       "    </tr>\n",
       "    <tr>\n",
       "      <th>9</th>\n",
       "      <td>POLYGON ((7655152.808667029 684534.6779698292,...</td>\n",
       "      <td>8766850</td>\n",
       "      <td>40682997</td>\n",
       "      <td>Vera Katz Eastbank Esplanade</td>\n",
       "    </tr>\n",
       "  </tbody>\n",
       "</table>\n",
       "</div>"
      ],
      "text/plain": [
       "                                            geometry  propertyid   node_id  \\\n",
       "6  POLYGON ((7649923.877360179 680057.9612040246,...     6520531  40629129   \n",
       "9  POLYGON ((7655152.808667029 684534.6779698292,...     8766850  40682997   \n",
       "\n",
       "                       sitename  \n",
       "6  Vera Katz Eastbank Esplanade  \n",
       "9  Vera Katz Eastbank Esplanade  "
      ]
     },
     "execution_count": 39,
     "metadata": {},
     "output_type": "execute_result"
    }
   ],
   "source": [
    "parks_sjoin.head(2)"
   ]
  },
  {
   "cell_type": "code",
   "execution_count": 40,
   "metadata": {
    "collapsed": false,
    "deletable": true,
    "editable": true
   },
   "outputs": [
    {
     "data": {
      "text/plain": [
       "(9423, 4)"
      ]
     },
     "execution_count": 40,
     "metadata": {},
     "output_type": "execute_result"
    }
   ],
   "source": [
    "parks_sjoin.shape"
   ]
  },
  {
   "cell_type": "markdown",
   "metadata": {
    "deletable": true,
    "editable": true
   },
   "source": [
    "#### Group our observations to get back to the correct number of rows"
   ]
  },
  {
   "cell_type": "code",
   "execution_count": 41,
   "metadata": {
    "collapsed": false,
    "deletable": true,
    "editable": true
   },
   "outputs": [],
   "source": [
    "parks_grp = parks_sjoin[['propertyid', 'sitename']].groupby(by='propertyid').count()"
   ]
  },
  {
   "cell_type": "code",
   "execution_count": 42,
   "metadata": {
    "collapsed": false,
    "deletable": true,
    "editable": true
   },
   "outputs": [
    {
     "data": {
      "text/html": [
       "<div>\n",
       "<style>\n",
       "    .dataframe thead tr:only-child th {\n",
       "        text-align: right;\n",
       "    }\n",
       "\n",
       "    .dataframe thead th {\n",
       "        text-align: left;\n",
       "    }\n",
       "\n",
       "    .dataframe tbody tr th {\n",
       "        vertical-align: top;\n",
       "    }\n",
       "</style>\n",
       "<table border=\"1\" class=\"dataframe\">\n",
       "  <thead>\n",
       "    <tr style=\"text-align: right;\">\n",
       "      <th></th>\n",
       "      <th>sitename</th>\n",
       "    </tr>\n",
       "    <tr>\n",
       "      <th>propertyid</th>\n",
       "      <th></th>\n",
       "    </tr>\n",
       "  </thead>\n",
       "  <tbody>\n",
       "    <tr>\n",
       "      <th>84126</th>\n",
       "      <td>28</td>\n",
       "    </tr>\n",
       "    <tr>\n",
       "      <th>673658</th>\n",
       "      <td>13</td>\n",
       "    </tr>\n",
       "  </tbody>\n",
       "</table>\n",
       "</div>"
      ],
      "text/plain": [
       "            sitename\n",
       "propertyid          \n",
       "84126             28\n",
       "673658            13"
      ]
     },
     "execution_count": 42,
     "metadata": {},
     "output_type": "execute_result"
    }
   ],
   "source": [
    "parks_grp.head(2)"
   ]
  },
  {
   "cell_type": "code",
   "execution_count": 43,
   "metadata": {
    "collapsed": false,
    "deletable": true,
    "editable": true
   },
   "outputs": [
    {
     "data": {
      "text/plain": [
       "(331, 1)"
      ]
     },
     "execution_count": 43,
     "metadata": {},
     "output_type": "execute_result"
    }
   ],
   "source": [
    "# not all properties are within 2k meters of a park so the number of rows here is less than 409\n",
    "parks_grp.shape"
   ]
  },
  {
   "cell_type": "code",
   "execution_count": 44,
   "metadata": {
    "collapsed": false,
    "deletable": true,
    "editable": true
   },
   "outputs": [],
   "source": [
    "# rename the column\n",
    "parks_grp.columns = ['parks_2k']"
   ]
  },
  {
   "cell_type": "code",
   "execution_count": 45,
   "metadata": {
    "collapsed": false,
    "deletable": true,
    "editable": true
   },
   "outputs": [
    {
     "data": {
      "text/html": [
       "<div>\n",
       "<style>\n",
       "    .dataframe thead tr:only-child th {\n",
       "        text-align: right;\n",
       "    }\n",
       "\n",
       "    .dataframe thead th {\n",
       "        text-align: left;\n",
       "    }\n",
       "\n",
       "    .dataframe tbody tr th {\n",
       "        vertical-align: top;\n",
       "    }\n",
       "</style>\n",
       "<table border=\"1\" class=\"dataframe\">\n",
       "  <thead>\n",
       "    <tr style=\"text-align: right;\">\n",
       "      <th></th>\n",
       "      <th>parks_2k</th>\n",
       "    </tr>\n",
       "    <tr>\n",
       "      <th>propertyid</th>\n",
       "      <th></th>\n",
       "    </tr>\n",
       "  </thead>\n",
       "  <tbody>\n",
       "    <tr>\n",
       "      <th>84126</th>\n",
       "      <td>28</td>\n",
       "    </tr>\n",
       "    <tr>\n",
       "      <th>673658</th>\n",
       "      <td>13</td>\n",
       "    </tr>\n",
       "  </tbody>\n",
       "</table>\n",
       "</div>"
      ],
      "text/plain": [
       "            parks_2k\n",
       "propertyid          \n",
       "84126             28\n",
       "673658            13"
      ]
     },
     "execution_count": 45,
     "metadata": {},
     "output_type": "execute_result"
    }
   ],
   "source": [
    "parks_grp.head(2)"
   ]
  },
  {
   "cell_type": "code",
   "execution_count": 46,
   "metadata": {
    "collapsed": false,
    "deletable": true,
    "editable": true
   },
   "outputs": [
    {
     "data": {
      "text/html": [
       "<div>\n",
       "<style>\n",
       "    .dataframe thead tr:only-child th {\n",
       "        text-align: right;\n",
       "    }\n",
       "\n",
       "    .dataframe thead th {\n",
       "        text-align: left;\n",
       "    }\n",
       "\n",
       "    .dataframe tbody tr th {\n",
       "        vertical-align: top;\n",
       "    }\n",
       "</style>\n",
       "<table border=\"1\" class=\"dataframe\">\n",
       "  <thead>\n",
       "    <tr style=\"text-align: right;\">\n",
       "      <th></th>\n",
       "      <th>propertyid</th>\n",
       "      <th>node_id</th>\n",
       "      <th>grocery_2k</th>\n",
       "      <th>lightrail_2k</th>\n",
       "      <th>transit_cen_2k</th>\n",
       "      <th>food_drink_2k</th>\n",
       "      <th>cafe_2k</th>\n",
       "      <th>college_2k</th>\n",
       "      <th>entertainment_2k</th>\n",
       "    </tr>\n",
       "  </thead>\n",
       "  <tbody>\n",
       "    <tr>\n",
       "      <th>0</th>\n",
       "      <td>8021379</td>\n",
       "      <td>47251805</td>\n",
       "      <td>0.0</td>\n",
       "      <td>0.0</td>\n",
       "      <td>0.0</td>\n",
       "      <td>8.0</td>\n",
       "      <td>6.0</td>\n",
       "      <td>0.0</td>\n",
       "      <td>0.0</td>\n",
       "    </tr>\n",
       "    <tr>\n",
       "      <th>1</th>\n",
       "      <td>9096130</td>\n",
       "      <td>47307668</td>\n",
       "      <td>0.0</td>\n",
       "      <td>0.0</td>\n",
       "      <td>0.0</td>\n",
       "      <td>5.0</td>\n",
       "      <td>4.0</td>\n",
       "      <td>0.0</td>\n",
       "      <td>0.0</td>\n",
       "    </tr>\n",
       "  </tbody>\n",
       "</table>\n",
       "</div>"
      ],
      "text/plain": [
       "   propertyid   node_id  grocery_2k  lightrail_2k  transit_cen_2k  \\\n",
       "0     8021379  47251805         0.0           0.0             0.0   \n",
       "1     9096130  47307668         0.0           0.0             0.0   \n",
       "\n",
       "   food_drink_2k  cafe_2k  college_2k  entertainment_2k  \n",
       "0            8.0      6.0         0.0               0.0  \n",
       "1            5.0      4.0         0.0               0.0  "
      ]
     },
     "execution_count": 46,
     "metadata": {},
     "output_type": "execute_result"
    }
   ],
   "source": [
    "sub.head(2)"
   ]
  },
  {
   "cell_type": "markdown",
   "metadata": {
    "deletable": true,
    "editable": true
   },
   "source": [
    "#### Merge parks_grp and sub to create the final dataframe"
   ]
  },
  {
   "cell_type": "code",
   "execution_count": 47,
   "metadata": {
    "collapsed": true,
    "deletable": true,
    "editable": true
   },
   "outputs": [],
   "source": [
    "# the left join will leave some NaNs in the park column so they get filled as zeros\n",
    "final = pd.merge(sub, parks_grp, how='left', left_on='propertyid', right_index=True).fillna(value=0)"
   ]
  },
  {
   "cell_type": "code",
   "execution_count": 48,
   "metadata": {
    "collapsed": false,
    "deletable": true,
    "editable": true
   },
   "outputs": [
    {
     "data": {
      "text/html": [
       "<div>\n",
       "<style>\n",
       "    .dataframe thead tr:only-child th {\n",
       "        text-align: right;\n",
       "    }\n",
       "\n",
       "    .dataframe thead th {\n",
       "        text-align: left;\n",
       "    }\n",
       "\n",
       "    .dataframe tbody tr th {\n",
       "        vertical-align: top;\n",
       "    }\n",
       "</style>\n",
       "<table border=\"1\" class=\"dataframe\">\n",
       "  <thead>\n",
       "    <tr style=\"text-align: right;\">\n",
       "      <th></th>\n",
       "      <th>propertyid</th>\n",
       "      <th>node_id</th>\n",
       "      <th>grocery_2k</th>\n",
       "      <th>lightrail_2k</th>\n",
       "      <th>transit_cen_2k</th>\n",
       "      <th>food_drink_2k</th>\n",
       "      <th>cafe_2k</th>\n",
       "      <th>college_2k</th>\n",
       "      <th>entertainment_2k</th>\n",
       "      <th>parks_2k</th>\n",
       "    </tr>\n",
       "  </thead>\n",
       "  <tbody>\n",
       "    <tr>\n",
       "      <th>0</th>\n",
       "      <td>8021379</td>\n",
       "      <td>47251805</td>\n",
       "      <td>0.0</td>\n",
       "      <td>0.0</td>\n",
       "      <td>0.0</td>\n",
       "      <td>8.0</td>\n",
       "      <td>6.0</td>\n",
       "      <td>0.0</td>\n",
       "      <td>0.0</td>\n",
       "      <td>0.0</td>\n",
       "    </tr>\n",
       "    <tr>\n",
       "      <th>1</th>\n",
       "      <td>9096130</td>\n",
       "      <td>47307668</td>\n",
       "      <td>0.0</td>\n",
       "      <td>0.0</td>\n",
       "      <td>0.0</td>\n",
       "      <td>5.0</td>\n",
       "      <td>4.0</td>\n",
       "      <td>0.0</td>\n",
       "      <td>0.0</td>\n",
       "      <td>0.0</td>\n",
       "    </tr>\n",
       "    <tr>\n",
       "      <th>2</th>\n",
       "      <td>7769079</td>\n",
       "      <td>47330355</td>\n",
       "      <td>0.0</td>\n",
       "      <td>0.0</td>\n",
       "      <td>0.0</td>\n",
       "      <td>3.0</td>\n",
       "      <td>5.0</td>\n",
       "      <td>0.0</td>\n",
       "      <td>0.0</td>\n",
       "      <td>0.0</td>\n",
       "    </tr>\n",
       "    <tr>\n",
       "      <th>3</th>\n",
       "      <td>6058580</td>\n",
       "      <td>3686142098</td>\n",
       "      <td>0.0</td>\n",
       "      <td>0.0</td>\n",
       "      <td>0.0</td>\n",
       "      <td>5.0</td>\n",
       "      <td>5.0</td>\n",
       "      <td>0.0</td>\n",
       "      <td>0.0</td>\n",
       "      <td>0.0</td>\n",
       "    </tr>\n",
       "    <tr>\n",
       "      <th>4</th>\n",
       "      <td>5998841</td>\n",
       "      <td>47211778</td>\n",
       "      <td>0.0</td>\n",
       "      <td>0.0</td>\n",
       "      <td>0.0</td>\n",
       "      <td>16.0</td>\n",
       "      <td>4.0</td>\n",
       "      <td>0.0</td>\n",
       "      <td>1.0</td>\n",
       "      <td>0.0</td>\n",
       "    </tr>\n",
       "  </tbody>\n",
       "</table>\n",
       "</div>"
      ],
      "text/plain": [
       "   propertyid     node_id  grocery_2k  lightrail_2k  transit_cen_2k  \\\n",
       "0     8021379    47251805         0.0           0.0             0.0   \n",
       "1     9096130    47307668         0.0           0.0             0.0   \n",
       "2     7769079    47330355         0.0           0.0             0.0   \n",
       "3     6058580  3686142098         0.0           0.0             0.0   \n",
       "4     5998841    47211778         0.0           0.0             0.0   \n",
       "\n",
       "   food_drink_2k  cafe_2k  college_2k  entertainment_2k  parks_2k  \n",
       "0            8.0      6.0         0.0               0.0       0.0  \n",
       "1            5.0      4.0         0.0               0.0       0.0  \n",
       "2            3.0      5.0         0.0               0.0       0.0  \n",
       "3            5.0      5.0         0.0               0.0       0.0  \n",
       "4           16.0      4.0         0.0               1.0       0.0  "
      ]
     },
     "execution_count": 48,
     "metadata": {},
     "output_type": "execute_result"
    }
   ],
   "source": [
    "final.head()"
   ]
  },
  {
   "cell_type": "markdown",
   "metadata": {
    "deletable": true,
    "editable": true
   },
   "source": [
    "### Add tract and blockgroup fips codes so observations can be joined to census data later\n",
    "#### Read observations, tracts and blockgroups and confirm projections"
   ]
  },
  {
   "cell_type": "code",
   "execution_count": 49,
   "metadata": {
    "collapsed": false,
    "deletable": true,
    "editable": true
   },
   "outputs": [
    {
     "data": {
      "text/html": [
       "<div>\n",
       "<style>\n",
       "    .dataframe thead tr:only-child th {\n",
       "        text-align: right;\n",
       "    }\n",
       "\n",
       "    .dataframe thead th {\n",
       "        text-align: left;\n",
       "    }\n",
       "\n",
       "    .dataframe tbody tr th {\n",
       "        vertical-align: top;\n",
       "    }\n",
       "</style>\n",
       "<table border=\"1\" class=\"dataframe\">\n",
       "  <thead>\n",
       "    <tr style=\"text-align: right;\">\n",
       "      <th></th>\n",
       "      <th>geometry</th>\n",
       "      <th>propertyid</th>\n",
       "      <th>node_id</th>\n",
       "    </tr>\n",
       "  </thead>\n",
       "  <tbody>\n",
       "    <tr>\n",
       "      <th>0</th>\n",
       "      <td>POLYGON ((7689333.215643824 777684.8060858538,...</td>\n",
       "      <td>8021379</td>\n",
       "      <td>47251805</td>\n",
       "    </tr>\n",
       "    <tr>\n",
       "      <th>1</th>\n",
       "      <td>POLYGON ((7695077.298893781 718648.9770450323,...</td>\n",
       "      <td>9096130</td>\n",
       "      <td>47307668</td>\n",
       "    </tr>\n",
       "  </tbody>\n",
       "</table>\n",
       "</div>"
      ],
      "text/plain": [
       "                                            geometry  propertyid   node_id\n",
       "0  POLYGON ((7689333.215643824 777684.8060858538,...     8021379  47251805\n",
       "1  POLYGON ((7695077.298893781 718648.9770450323,...     9096130  47307668"
      ]
     },
     "execution_count": 49,
     "metadata": {},
     "output_type": "execute_result"
    }
   ],
   "source": [
    "props.head(2)"
   ]
  },
  {
   "cell_type": "code",
   "execution_count": 50,
   "metadata": {
    "collapsed": true,
    "deletable": true,
    "editable": true
   },
   "outputs": [],
   "source": [
    "# reread the property file to get the original geometries\n",
    "props = gpd.read_file('./data/properties')"
   ]
  },
  {
   "cell_type": "code",
   "execution_count": 51,
   "metadata": {
    "collapsed": false,
    "deletable": true,
    "editable": true
   },
   "outputs": [
    {
     "data": {
      "text/plain": [
       "{'init': 'epsg:4326'}"
      ]
     },
     "execution_count": 51,
     "metadata": {},
     "output_type": "execute_result"
    }
   ],
   "source": [
    "props.crs"
   ]
  },
  {
   "cell_type": "code",
   "execution_count": 52,
   "metadata": {
    "collapsed": true,
    "deletable": true,
    "editable": true
   },
   "outputs": [],
   "source": [
    "props = props.to_crs({'init': 'epsg:2913'})"
   ]
  },
  {
   "cell_type": "markdown",
   "metadata": {
    "deletable": true,
    "editable": true
   },
   "source": [
    "#### Tracts"
   ]
  },
  {
   "cell_type": "code",
   "execution_count": 53,
   "metadata": {
    "collapsed": true,
    "deletable": true,
    "editable": true
   },
   "outputs": [],
   "source": [
    "# OR\n",
    "tracts41 = gpd.read_file('./data/tracts_41')"
   ]
  },
  {
   "cell_type": "code",
   "execution_count": 54,
   "metadata": {
    "collapsed": false,
    "deletable": true,
    "editable": true
   },
   "outputs": [
    {
     "data": {
      "text/plain": [
       "{'init': 'epsg:4269'}"
      ]
     },
     "execution_count": 54,
     "metadata": {},
     "output_type": "execute_result"
    }
   ],
   "source": [
    "tracts41.crs"
   ]
  },
  {
   "cell_type": "code",
   "execution_count": 55,
   "metadata": {
    "collapsed": true,
    "deletable": true,
    "editable": true
   },
   "outputs": [],
   "source": [
    "tracts41 = tracts41.to_crs({'init': 'epsg:2913'})"
   ]
  },
  {
   "cell_type": "code",
   "execution_count": 56,
   "metadata": {
    "collapsed": true,
    "deletable": true,
    "editable": true
   },
   "outputs": [],
   "source": [
    "# WA\n",
    "tracts53 = gpd.read_file('./data/tracts_53')"
   ]
  },
  {
   "cell_type": "code",
   "execution_count": 57,
   "metadata": {
    "collapsed": false,
    "deletable": true,
    "editable": true
   },
   "outputs": [
    {
     "data": {
      "text/plain": [
       "{'init': 'epsg:4269'}"
      ]
     },
     "execution_count": 57,
     "metadata": {},
     "output_type": "execute_result"
    }
   ],
   "source": [
    "tracts53.crs"
   ]
  },
  {
   "cell_type": "code",
   "execution_count": 58,
   "metadata": {
    "collapsed": true,
    "deletable": true,
    "editable": true
   },
   "outputs": [],
   "source": [
    "tracts53 = tracts53.to_crs({'init': 'epsg:2913'})"
   ]
  },
  {
   "cell_type": "code",
   "execution_count": 59,
   "metadata": {
    "collapsed": true,
    "deletable": true,
    "editable": true
   },
   "outputs": [],
   "source": [
    "tracts = pd.concat([tracts41, tracts53], ignore_index=True)"
   ]
  },
  {
   "cell_type": "code",
   "execution_count": 60,
   "metadata": {
    "collapsed": false,
    "deletable": true,
    "editable": true
   },
   "outputs": [
    {
     "data": {
      "text/plain": [
       "geopandas.geodataframe.GeoDataFrame"
      ]
     },
     "execution_count": 60,
     "metadata": {},
     "output_type": "execute_result"
    }
   ],
   "source": [
    "# pd operations do not always preserve gpd dataframes\n",
    "type(tracts)"
   ]
  },
  {
   "cell_type": "code",
   "execution_count": 61,
   "metadata": {
    "collapsed": false,
    "deletable": true,
    "editable": true
   },
   "outputs": [
    {
     "data": {
      "text/html": [
       "<div>\n",
       "<style>\n",
       "    .dataframe thead tr:only-child th {\n",
       "        text-align: right;\n",
       "    }\n",
       "\n",
       "    .dataframe thead th {\n",
       "        text-align: left;\n",
       "    }\n",
       "\n",
       "    .dataframe tbody tr th {\n",
       "        vertical-align: top;\n",
       "    }\n",
       "</style>\n",
       "<table border=\"1\" class=\"dataframe\">\n",
       "  <thead>\n",
       "    <tr style=\"text-align: right;\">\n",
       "      <th></th>\n",
       "      <th>ALAND</th>\n",
       "      <th>AWATER</th>\n",
       "      <th>COUNTYFP</th>\n",
       "      <th>FUNCSTAT</th>\n",
       "      <th>GEOID</th>\n",
       "      <th>INTPTLAT</th>\n",
       "      <th>INTPTLON</th>\n",
       "      <th>MTFCC</th>\n",
       "      <th>NAME</th>\n",
       "      <th>NAMELSAD</th>\n",
       "      <th>STATEFP</th>\n",
       "      <th>TRACTCE</th>\n",
       "      <th>geometry</th>\n",
       "    </tr>\n",
       "  </thead>\n",
       "  <tbody>\n",
       "    <tr>\n",
       "      <th>0</th>\n",
       "      <td>8828148</td>\n",
       "      <td>4127662</td>\n",
       "      <td>015</td>\n",
       "      <td>S</td>\n",
       "      <td>41015950302</td>\n",
       "      <td>+42.0617567</td>\n",
       "      <td>-124.2939759</td>\n",
       "      <td>G5020</td>\n",
       "      <td>9503.02</td>\n",
       "      <td>Census Tract 9503.02</td>\n",
       "      <td>41</td>\n",
       "      <td>950302</td>\n",
       "      <td>POLYGON ((7161539.169300538 -558639.417910337,...</td>\n",
       "    </tr>\n",
       "    <tr>\n",
       "      <th>1</th>\n",
       "      <td>621349742</td>\n",
       "      <td>4962481</td>\n",
       "      <td>015</td>\n",
       "      <td>S</td>\n",
       "      <td>41015950400</td>\n",
       "      <td>+42.1168650</td>\n",
       "      <td>-123.9370837</td>\n",
       "      <td>G5020</td>\n",
       "      <td>9504</td>\n",
       "      <td>Census Tract 9504</td>\n",
       "      <td>41</td>\n",
       "      <td>950400</td>\n",
       "      <td>POLYGON ((7173981.973703014 -569930.5500462982...</td>\n",
       "    </tr>\n",
       "  </tbody>\n",
       "</table>\n",
       "</div>"
      ],
      "text/plain": [
       "       ALAND   AWATER COUNTYFP FUNCSTAT        GEOID     INTPTLAT  \\\n",
       "0    8828148  4127662      015        S  41015950302  +42.0617567   \n",
       "1  621349742  4962481      015        S  41015950400  +42.1168650   \n",
       "\n",
       "       INTPTLON  MTFCC     NAME              NAMELSAD STATEFP TRACTCE  \\\n",
       "0  -124.2939759  G5020  9503.02  Census Tract 9503.02      41  950302   \n",
       "1  -123.9370837  G5020     9504     Census Tract 9504      41  950400   \n",
       "\n",
       "                                            geometry  \n",
       "0  POLYGON ((7161539.169300538 -558639.417910337,...  \n",
       "1  POLYGON ((7173981.973703014 -569930.5500462982...  "
      ]
     },
     "execution_count": 61,
     "metadata": {},
     "output_type": "execute_result"
    }
   ],
   "source": [
    "tracts.head(2)"
   ]
  },
  {
   "cell_type": "code",
   "execution_count": 62,
   "metadata": {
    "collapsed": true,
    "deletable": true,
    "editable": true
   },
   "outputs": [],
   "source": [
    "tracts = tracts.rename(columns=lambda x: x.lower())"
   ]
  },
  {
   "cell_type": "markdown",
   "metadata": {
    "deletable": true,
    "editable": true
   },
   "source": [
    "#### Block groups"
   ]
  },
  {
   "cell_type": "code",
   "execution_count": 63,
   "metadata": {
    "collapsed": true,
    "deletable": true,
    "editable": true
   },
   "outputs": [],
   "source": [
    "# OR\n",
    "bgs41 = gpd.read_file('./data/bgs_41')"
   ]
  },
  {
   "cell_type": "code",
   "execution_count": 64,
   "metadata": {
    "collapsed": false,
    "deletable": true,
    "editable": true
   },
   "outputs": [
    {
     "data": {
      "text/plain": [
       "{'init': 'epsg:4269'}"
      ]
     },
     "execution_count": 64,
     "metadata": {},
     "output_type": "execute_result"
    }
   ],
   "source": [
    "bgs41.crs"
   ]
  },
  {
   "cell_type": "code",
   "execution_count": 65,
   "metadata": {
    "collapsed": true,
    "deletable": true,
    "editable": true
   },
   "outputs": [],
   "source": [
    "bgs41 = bgs41.to_crs({'init': 'epsg:2913'})"
   ]
  },
  {
   "cell_type": "code",
   "execution_count": 66,
   "metadata": {
    "collapsed": true,
    "deletable": true,
    "editable": true
   },
   "outputs": [],
   "source": [
    "# WA\n",
    "bgs53 = gpd.read_file('./data/bgs_53')"
   ]
  },
  {
   "cell_type": "code",
   "execution_count": 67,
   "metadata": {
    "collapsed": false,
    "deletable": true,
    "editable": true
   },
   "outputs": [
    {
     "data": {
      "text/plain": [
       "{'init': 'epsg:4269'}"
      ]
     },
     "execution_count": 67,
     "metadata": {},
     "output_type": "execute_result"
    }
   ],
   "source": [
    "bgs53.crs"
   ]
  },
  {
   "cell_type": "code",
   "execution_count": 68,
   "metadata": {
    "collapsed": true,
    "deletable": true,
    "editable": true
   },
   "outputs": [],
   "source": [
    "bgs53 = bgs53.to_crs({'init': 'epsg:2913'})"
   ]
  },
  {
   "cell_type": "code",
   "execution_count": 69,
   "metadata": {
    "collapsed": true,
    "deletable": true,
    "editable": true
   },
   "outputs": [],
   "source": [
    "bgs = pd.concat([bgs41, bgs53], ignore_index=True)"
   ]
  },
  {
   "cell_type": "code",
   "execution_count": 70,
   "metadata": {
    "collapsed": false,
    "deletable": true,
    "editable": true
   },
   "outputs": [
    {
     "data": {
      "text/plain": [
       "geopandas.geodataframe.GeoDataFrame"
      ]
     },
     "execution_count": 70,
     "metadata": {},
     "output_type": "execute_result"
    }
   ],
   "source": [
    "type(bgs)"
   ]
  },
  {
   "cell_type": "code",
   "execution_count": 71,
   "metadata": {
    "collapsed": true,
    "deletable": true,
    "editable": true
   },
   "outputs": [],
   "source": [
    "bgs = bgs.rename(columns=lambda x: x.lower())"
   ]
  },
  {
   "cell_type": "markdown",
   "metadata": {
    "deletable": true,
    "editable": true
   },
   "source": [
    "### Perform spatial joins to assign each observation to a geography"
   ]
  },
  {
   "cell_type": "code",
   "execution_count": 72,
   "metadata": {
    "collapsed": false,
    "deletable": true,
    "editable": true
   },
   "outputs": [
    {
     "data": {
      "text/html": [
       "<div>\n",
       "<style>\n",
       "    .dataframe thead tr:only-child th {\n",
       "        text-align: right;\n",
       "    }\n",
       "\n",
       "    .dataframe thead th {\n",
       "        text-align: left;\n",
       "    }\n",
       "\n",
       "    .dataframe tbody tr th {\n",
       "        vertical-align: top;\n",
       "    }\n",
       "</style>\n",
       "<table border=\"1\" class=\"dataframe\">\n",
       "  <thead>\n",
       "    <tr style=\"text-align: right;\">\n",
       "      <th></th>\n",
       "      <th>aland</th>\n",
       "      <th>awater</th>\n",
       "      <th>countyfp</th>\n",
       "      <th>funcstat</th>\n",
       "      <th>geoid</th>\n",
       "      <th>intptlat</th>\n",
       "      <th>intptlon</th>\n",
       "      <th>mtfcc</th>\n",
       "      <th>name</th>\n",
       "      <th>namelsad</th>\n",
       "      <th>statefp</th>\n",
       "      <th>tractce</th>\n",
       "      <th>geometry</th>\n",
       "    </tr>\n",
       "  </thead>\n",
       "  <tbody>\n",
       "    <tr>\n",
       "      <th>0</th>\n",
       "      <td>8828148</td>\n",
       "      <td>4127662</td>\n",
       "      <td>015</td>\n",
       "      <td>S</td>\n",
       "      <td>41015950302</td>\n",
       "      <td>+42.0617567</td>\n",
       "      <td>-124.2939759</td>\n",
       "      <td>G5020</td>\n",
       "      <td>9503.02</td>\n",
       "      <td>Census Tract 9503.02</td>\n",
       "      <td>41</td>\n",
       "      <td>950302</td>\n",
       "      <td>POLYGON ((7161539.169300538 -558639.417910337,...</td>\n",
       "    </tr>\n",
       "    <tr>\n",
       "      <th>1</th>\n",
       "      <td>621349742</td>\n",
       "      <td>4962481</td>\n",
       "      <td>015</td>\n",
       "      <td>S</td>\n",
       "      <td>41015950400</td>\n",
       "      <td>+42.1168650</td>\n",
       "      <td>-123.9370837</td>\n",
       "      <td>G5020</td>\n",
       "      <td>9504</td>\n",
       "      <td>Census Tract 9504</td>\n",
       "      <td>41</td>\n",
       "      <td>950400</td>\n",
       "      <td>POLYGON ((7173981.973703014 -569930.5500462982...</td>\n",
       "    </tr>\n",
       "  </tbody>\n",
       "</table>\n",
       "</div>"
      ],
      "text/plain": [
       "       aland   awater countyfp funcstat        geoid     intptlat  \\\n",
       "0    8828148  4127662      015        S  41015950302  +42.0617567   \n",
       "1  621349742  4962481      015        S  41015950400  +42.1168650   \n",
       "\n",
       "       intptlon  mtfcc     name              namelsad statefp tractce  \\\n",
       "0  -124.2939759  G5020  9503.02  Census Tract 9503.02      41  950302   \n",
       "1  -123.9370837  G5020     9504     Census Tract 9504      41  950400   \n",
       "\n",
       "                                            geometry  \n",
       "0  POLYGON ((7161539.169300538 -558639.417910337,...  \n",
       "1  POLYGON ((7173981.973703014 -569930.5500462982...  "
      ]
     },
     "execution_count": 72,
     "metadata": {},
     "output_type": "execute_result"
    }
   ],
   "source": [
    "tracts.head(2)"
   ]
  },
  {
   "cell_type": "code",
   "execution_count": 73,
   "metadata": {
    "collapsed": false,
    "deletable": true,
    "editable": true
   },
   "outputs": [
    {
     "data": {
      "text/html": [
       "<div>\n",
       "<style>\n",
       "    .dataframe thead tr:only-child th {\n",
       "        text-align: right;\n",
       "    }\n",
       "\n",
       "    .dataframe thead th {\n",
       "        text-align: left;\n",
       "    }\n",
       "\n",
       "    .dataframe tbody tr th {\n",
       "        vertical-align: top;\n",
       "    }\n",
       "</style>\n",
       "<table border=\"1\" class=\"dataframe\">\n",
       "  <thead>\n",
       "    <tr style=\"text-align: right;\">\n",
       "      <th></th>\n",
       "      <th>aland</th>\n",
       "      <th>awater</th>\n",
       "      <th>blkgrpce</th>\n",
       "      <th>countyfp</th>\n",
       "      <th>funcstat</th>\n",
       "      <th>geoid</th>\n",
       "      <th>intptlat</th>\n",
       "      <th>intptlon</th>\n",
       "      <th>mtfcc</th>\n",
       "      <th>namelsad</th>\n",
       "      <th>statefp</th>\n",
       "      <th>tractce</th>\n",
       "      <th>geometry</th>\n",
       "    </tr>\n",
       "  </thead>\n",
       "  <tbody>\n",
       "    <tr>\n",
       "      <th>0</th>\n",
       "      <td>389639</td>\n",
       "      <td>0</td>\n",
       "      <td>4</td>\n",
       "      <td>051</td>\n",
       "      <td>S</td>\n",
       "      <td>410510012014</td>\n",
       "      <td>+45.5171764</td>\n",
       "      <td>-122.6443508</td>\n",
       "      <td>G5030</td>\n",
       "      <td>Block Group 4</td>\n",
       "      <td>41</td>\n",
       "      <td>001201</td>\n",
       "      <td>POLYGON ((7651156.260178134 681481.2395682092,...</td>\n",
       "    </tr>\n",
       "    <tr>\n",
       "      <th>1</th>\n",
       "      <td>193207</td>\n",
       "      <td>0</td>\n",
       "      <td>1</td>\n",
       "      <td>051</td>\n",
       "      <td>S</td>\n",
       "      <td>410510013021</td>\n",
       "      <td>+45.5104150</td>\n",
       "      <td>-122.6261822</td>\n",
       "      <td>G5030</td>\n",
       "      <td>Block Group 1</td>\n",
       "      <td>41</td>\n",
       "      <td>001302</td>\n",
       "      <td>POLYGON ((7656226.54015459 679053.8458619422, ...</td>\n",
       "    </tr>\n",
       "  </tbody>\n",
       "</table>\n",
       "</div>"
      ],
      "text/plain": [
       "    aland  awater blkgrpce countyfp funcstat         geoid     intptlat  \\\n",
       "0  389639       0        4      051        S  410510012014  +45.5171764   \n",
       "1  193207       0        1      051        S  410510013021  +45.5104150   \n",
       "\n",
       "       intptlon  mtfcc       namelsad statefp tractce  \\\n",
       "0  -122.6443508  G5030  Block Group 4      41  001201   \n",
       "1  -122.6261822  G5030  Block Group 1      41  001302   \n",
       "\n",
       "                                            geometry  \n",
       "0  POLYGON ((7651156.260178134 681481.2395682092,...  \n",
       "1  POLYGON ((7656226.54015459 679053.8458619422, ...  "
      ]
     },
     "execution_count": 73,
     "metadata": {},
     "output_type": "execute_result"
    }
   ],
   "source": [
    "bgs.head(2)"
   ]
  },
  {
   "cell_type": "code",
   "execution_count": 74,
   "metadata": {
    "collapsed": true,
    "deletable": true,
    "editable": true
   },
   "outputs": [],
   "source": [
    "census_geos = gpd.sjoin(props, tracts[['geoid', 'geometry']], how='inner', op='within')"
   ]
  },
  {
   "cell_type": "code",
   "execution_count": 75,
   "metadata": {
    "collapsed": false,
    "deletable": true,
    "editable": true
   },
   "outputs": [
    {
     "data": {
      "text/plain": [
       "(409, 4)"
      ]
     },
     "execution_count": 75,
     "metadata": {},
     "output_type": "execute_result"
    }
   ],
   "source": [
    "census_geos.shape"
   ]
  },
  {
   "cell_type": "code",
   "execution_count": 76,
   "metadata": {
    "collapsed": false,
    "deletable": true,
    "editable": true
   },
   "outputs": [
    {
     "data": {
      "text/html": [
       "<div>\n",
       "<style>\n",
       "    .dataframe thead tr:only-child th {\n",
       "        text-align: right;\n",
       "    }\n",
       "\n",
       "    .dataframe thead th {\n",
       "        text-align: left;\n",
       "    }\n",
       "\n",
       "    .dataframe tbody tr th {\n",
       "        vertical-align: top;\n",
       "    }\n",
       "</style>\n",
       "<table border=\"1\" class=\"dataframe\">\n",
       "  <thead>\n",
       "    <tr style=\"text-align: right;\">\n",
       "      <th></th>\n",
       "      <th>geometry</th>\n",
       "      <th>propertyid</th>\n",
       "      <th>index_right</th>\n",
       "      <th>geoid</th>\n",
       "    </tr>\n",
       "  </thead>\n",
       "  <tbody>\n",
       "    <tr>\n",
       "      <th>0</th>\n",
       "      <td>POINT (7682771.535643824 777684.8060858538)</td>\n",
       "      <td>8021379</td>\n",
       "      <td>1910</td>\n",
       "      <td>53011040415</td>\n",
       "    </tr>\n",
       "    <tr>\n",
       "      <th>1</th>\n",
       "      <td>POINT (7688515.618893782 718648.9770450323)</td>\n",
       "      <td>9096130</td>\n",
       "      <td>1964</td>\n",
       "      <td>53011041320</td>\n",
       "    </tr>\n",
       "  </tbody>\n",
       "</table>\n",
       "</div>"
      ],
      "text/plain": [
       "                                      geometry  propertyid  index_right  \\\n",
       "0  POINT (7682771.535643824 777684.8060858538)     8021379         1910   \n",
       "1  POINT (7688515.618893782 718648.9770450323)     9096130         1964   \n",
       "\n",
       "         geoid  \n",
       "0  53011040415  \n",
       "1  53011041320  "
      ]
     },
     "execution_count": 76,
     "metadata": {},
     "output_type": "execute_result"
    }
   ],
   "source": [
    "census_geos.head(2)"
   ]
  },
  {
   "cell_type": "code",
   "execution_count": 77,
   "metadata": {
    "collapsed": false,
    "deletable": true,
    "editable": true
   },
   "outputs": [],
   "source": [
    "census_geos.drop('index_right', axis=1, inplace=True)"
   ]
  },
  {
   "cell_type": "code",
   "execution_count": 78,
   "metadata": {
    "collapsed": false,
    "deletable": true,
    "editable": true
   },
   "outputs": [],
   "source": [
    "census_geos = census_geos.rename(columns={'geoid': 'tract_fips'})"
   ]
  },
  {
   "cell_type": "code",
   "execution_count": 79,
   "metadata": {
    "collapsed": false,
    "deletable": true,
    "editable": true
   },
   "outputs": [
    {
     "data": {
      "text/html": [
       "<div>\n",
       "<style>\n",
       "    .dataframe thead tr:only-child th {\n",
       "        text-align: right;\n",
       "    }\n",
       "\n",
       "    .dataframe thead th {\n",
       "        text-align: left;\n",
       "    }\n",
       "\n",
       "    .dataframe tbody tr th {\n",
       "        vertical-align: top;\n",
       "    }\n",
       "</style>\n",
       "<table border=\"1\" class=\"dataframe\">\n",
       "  <thead>\n",
       "    <tr style=\"text-align: right;\">\n",
       "      <th></th>\n",
       "      <th>geometry</th>\n",
       "      <th>propertyid</th>\n",
       "      <th>tract_fips</th>\n",
       "    </tr>\n",
       "  </thead>\n",
       "  <tbody>\n",
       "    <tr>\n",
       "      <th>0</th>\n",
       "      <td>POINT (7682771.535643824 777684.8060858538)</td>\n",
       "      <td>8021379</td>\n",
       "      <td>53011040415</td>\n",
       "    </tr>\n",
       "    <tr>\n",
       "      <th>1</th>\n",
       "      <td>POINT (7688515.618893782 718648.9770450323)</td>\n",
       "      <td>9096130</td>\n",
       "      <td>53011041320</td>\n",
       "    </tr>\n",
       "  </tbody>\n",
       "</table>\n",
       "</div>"
      ],
      "text/plain": [
       "                                      geometry  propertyid   tract_fips\n",
       "0  POINT (7682771.535643824 777684.8060858538)     8021379  53011040415\n",
       "1  POINT (7688515.618893782 718648.9770450323)     9096130  53011041320"
      ]
     },
     "execution_count": 79,
     "metadata": {},
     "output_type": "execute_result"
    }
   ],
   "source": [
    "census_geos.head(2)"
   ]
  },
  {
   "cell_type": "code",
   "execution_count": 80,
   "metadata": {
    "collapsed": false,
    "deletable": true,
    "editable": true
   },
   "outputs": [],
   "source": [
    "census_geos = gpd.sjoin(census_geos, bgs[['geoid', 'geometry']], how='inner', op='within')"
   ]
  },
  {
   "cell_type": "code",
   "execution_count": 81,
   "metadata": {
    "collapsed": true,
    "deletable": true,
    "editable": true
   },
   "outputs": [],
   "source": [
    "census_geos.drop('index_right', axis=1, inplace=True)"
   ]
  },
  {
   "cell_type": "code",
   "execution_count": 82,
   "metadata": {
    "collapsed": true,
    "deletable": true,
    "editable": true
   },
   "outputs": [],
   "source": [
    "census_geos = census_geos.rename(columns={'geoid': 'bg_fips'})"
   ]
  },
  {
   "cell_type": "code",
   "execution_count": 83,
   "metadata": {
    "collapsed": false,
    "deletable": true,
    "editable": true
   },
   "outputs": [
    {
     "data": {
      "text/html": [
       "<div>\n",
       "<style>\n",
       "    .dataframe thead tr:only-child th {\n",
       "        text-align: right;\n",
       "    }\n",
       "\n",
       "    .dataframe thead th {\n",
       "        text-align: left;\n",
       "    }\n",
       "\n",
       "    .dataframe tbody tr th {\n",
       "        vertical-align: top;\n",
       "    }\n",
       "</style>\n",
       "<table border=\"1\" class=\"dataframe\">\n",
       "  <thead>\n",
       "    <tr style=\"text-align: right;\">\n",
       "      <th></th>\n",
       "      <th>geometry</th>\n",
       "      <th>propertyid</th>\n",
       "      <th>tract_fips</th>\n",
       "      <th>bg_fips</th>\n",
       "    </tr>\n",
       "  </thead>\n",
       "  <tbody>\n",
       "    <tr>\n",
       "      <th>0</th>\n",
       "      <td>POINT (7682771.535643824 777684.8060858538)</td>\n",
       "      <td>8021379</td>\n",
       "      <td>53011040415</td>\n",
       "      <td>530110404151</td>\n",
       "    </tr>\n",
       "    <tr>\n",
       "      <th>1</th>\n",
       "      <td>POINT (7688515.618893782 718648.9770450323)</td>\n",
       "      <td>9096130</td>\n",
       "      <td>53011041320</td>\n",
       "      <td>530110413204</td>\n",
       "    </tr>\n",
       "  </tbody>\n",
       "</table>\n",
       "</div>"
      ],
      "text/plain": [
       "                                      geometry  propertyid   tract_fips  \\\n",
       "0  POINT (7682771.535643824 777684.8060858538)     8021379  53011040415   \n",
       "1  POINT (7688515.618893782 718648.9770450323)     9096130  53011041320   \n",
       "\n",
       "        bg_fips  \n",
       "0  530110404151  \n",
       "1  530110413204  "
      ]
     },
     "execution_count": 83,
     "metadata": {},
     "output_type": "execute_result"
    }
   ],
   "source": [
    "census_geos.head(2)"
   ]
  },
  {
   "cell_type": "markdown",
   "metadata": {
    "deletable": true,
    "editable": true
   },
   "source": [
    "### One final merge of all the data"
   ]
  },
  {
   "cell_type": "code",
   "execution_count": 84,
   "metadata": {
    "collapsed": true,
    "deletable": true,
    "editable": true
   },
   "outputs": [],
   "source": [
    "master = pd.merge(final, census_geos, how='inner', on='propertyid')"
   ]
  },
  {
   "cell_type": "code",
   "execution_count": 85,
   "metadata": {
    "collapsed": false,
    "deletable": true,
    "editable": true
   },
   "outputs": [
    {
     "data": {
      "text/plain": [
       "(409, 13)"
      ]
     },
     "execution_count": 85,
     "metadata": {},
     "output_type": "execute_result"
    }
   ],
   "source": [
    "master.shape"
   ]
  },
  {
   "cell_type": "code",
   "execution_count": 86,
   "metadata": {
    "collapsed": false,
    "deletable": true,
    "editable": true
   },
   "outputs": [
    {
     "data": {
      "text/html": [
       "<div>\n",
       "<style>\n",
       "    .dataframe thead tr:only-child th {\n",
       "        text-align: right;\n",
       "    }\n",
       "\n",
       "    .dataframe thead th {\n",
       "        text-align: left;\n",
       "    }\n",
       "\n",
       "    .dataframe tbody tr th {\n",
       "        vertical-align: top;\n",
       "    }\n",
       "</style>\n",
       "<table border=\"1\" class=\"dataframe\">\n",
       "  <thead>\n",
       "    <tr style=\"text-align: right;\">\n",
       "      <th></th>\n",
       "      <th>propertyid</th>\n",
       "      <th>node_id</th>\n",
       "      <th>grocery_2k</th>\n",
       "      <th>lightrail_2k</th>\n",
       "      <th>transit_cen_2k</th>\n",
       "      <th>food_drink_2k</th>\n",
       "      <th>cafe_2k</th>\n",
       "      <th>college_2k</th>\n",
       "      <th>entertainment_2k</th>\n",
       "      <th>parks_2k</th>\n",
       "      <th>geometry</th>\n",
       "      <th>tract_fips</th>\n",
       "      <th>bg_fips</th>\n",
       "    </tr>\n",
       "  </thead>\n",
       "  <tbody>\n",
       "    <tr>\n",
       "      <th>0</th>\n",
       "      <td>8021379</td>\n",
       "      <td>47251805</td>\n",
       "      <td>0.0</td>\n",
       "      <td>0.0</td>\n",
       "      <td>0.0</td>\n",
       "      <td>8.0</td>\n",
       "      <td>6.0</td>\n",
       "      <td>0.0</td>\n",
       "      <td>0.0</td>\n",
       "      <td>0.0</td>\n",
       "      <td>POINT (7682771.535643824 777684.8060858538)</td>\n",
       "      <td>53011040415</td>\n",
       "      <td>530110404151</td>\n",
       "    </tr>\n",
       "    <tr>\n",
       "      <th>1</th>\n",
       "      <td>9096130</td>\n",
       "      <td>47307668</td>\n",
       "      <td>0.0</td>\n",
       "      <td>0.0</td>\n",
       "      <td>0.0</td>\n",
       "      <td>5.0</td>\n",
       "      <td>4.0</td>\n",
       "      <td>0.0</td>\n",
       "      <td>0.0</td>\n",
       "      <td>0.0</td>\n",
       "      <td>POINT (7688515.618893782 718648.9770450323)</td>\n",
       "      <td>53011041320</td>\n",
       "      <td>530110413204</td>\n",
       "    </tr>\n",
       "  </tbody>\n",
       "</table>\n",
       "</div>"
      ],
      "text/plain": [
       "   propertyid   node_id  grocery_2k  lightrail_2k  transit_cen_2k  \\\n",
       "0     8021379  47251805         0.0           0.0             0.0   \n",
       "1     9096130  47307668         0.0           0.0             0.0   \n",
       "\n",
       "   food_drink_2k  cafe_2k  college_2k  entertainment_2k  parks_2k  \\\n",
       "0            8.0      6.0         0.0               0.0       0.0   \n",
       "1            5.0      4.0         0.0               0.0       0.0   \n",
       "\n",
       "                                      geometry   tract_fips       bg_fips  \n",
       "0  POINT (7682771.535643824 777684.8060858538)  53011040415  530110404151  \n",
       "1  POINT (7688515.618893782 718648.9770450323)  53011041320  530110413204  "
      ]
     },
     "execution_count": 86,
     "metadata": {},
     "output_type": "execute_result"
    }
   ],
   "source": [
    "master.head(2)"
   ]
  },
  {
   "cell_type": "code",
   "execution_count": 87,
   "metadata": {
    "collapsed": true,
    "deletable": true,
    "editable": true
   },
   "outputs": [],
   "source": [
    "# geometry is no longer needed\n",
    "master.drop('geometry', axis=1, inplace=True)"
   ]
  },
  {
   "cell_type": "code",
   "execution_count": 88,
   "metadata": {
    "collapsed": false,
    "deletable": true,
    "editable": true
   },
   "outputs": [],
   "source": [
    "master.to_csv('./output.csv', index=False)"
   ]
  },
  {
   "cell_type": "markdown",
   "metadata": {
    "collapsed": true,
    "deletable": true,
    "editable": true
   },
   "source": [
    "### This data could now be joined on 'propertyid' back to the rent data and these spatial variables could be used as regressors such as \n",
    "\n",
    "\\begin{equation*}  rent = \\beta_0 + \\beta_1(grocery_2k) + \\beta_2(lightrail_2k) +  ...  + \\epsilon \\end{equation*}"
   ]
  }
 ],
 "metadata": {
  "kernelspec": {
   "display_name": "Python 3",
   "language": "python",
   "name": "python3"
  },
  "language_info": {
   "codemirror_mode": {
    "name": "ipython",
    "version": 3
   },
   "file_extension": ".py",
   "mimetype": "text/x-python",
   "name": "python",
   "nbconvert_exporter": "python",
   "pygments_lexer": "ipython3",
   "version": "3.5.1"
  }
 },
 "nbformat": 4,
 "nbformat_minor": 2
}
